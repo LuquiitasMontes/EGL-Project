{
 "cells": [
  {
   "cell_type": "code",
   "execution_count": 7,
   "id": "d3c7716a-5b6f-4608-b66a-9c436897f5d3",
   "metadata": {},
   "outputs": [],
   "source": [
    "import numpy as np\n",
    "np.set_printoptions(precision=4, suppress=True)"
   ]
  },
  {
   "cell_type": "code",
   "execution_count": 8,
   "id": "dc930998-2588-4c4d-9d33-4eb6e98d1e5b",
   "metadata": {},
   "outputs": [],
   "source": [
    "def matriz_DH(theta, d, a, alpha):\n",
    "    \"\"\"Devuelve la matriz de transformación homogénea individual usando los parámetros DH.\"\"\"\n",
    "    theta = np.deg2rad(theta)\n",
    "    alpha = np.deg2rad(alpha)\n",
    "    \n",
    "    return np.array([\n",
    "        [np.cos(theta), -np.sin(theta)*np.cos(alpha),  np.sin(theta)*np.sin(alpha), a*np.cos(theta)],\n",
    "        [np.sin(theta),  np.cos(theta)*np.cos(alpha), -np.cos(theta)*np.sin(alpha), a*np.sin(theta)],\n",
    "        [0,              np.sin(alpha),                np.cos(alpha),               d],\n",
    "        [0,              0,                            0,                           1]\n",
    "    ])\n",
    "\n",
    "def cinemática_directa(param_dh, thetas):\n",
    "    \"\"\"Calcula la posición del efector final a partir de los ángulos de las articulaciones.\"\"\"\n",
    "    T = np.identity(4)\n",
    "    for i, (d, a, alpha) in enumerate(param_dh):\n",
    "        theta = thetas[i]\n",
    "        T_i = matriz_DH(theta, d, a, alpha)\n",
    "        T = np.dot(T, T_i)\n",
    "    return T"
   ]
  },
  {
   "cell_type": "code",
   "execution_count": 9,
   "id": "6963b5f3-ecbb-4bac-b27b-e1195b303ca3",
   "metadata": {},
   "outputs": [],
   "source": [
    "#DATOS\n",
    "l1= 70.75\n",
    "l2 = 60\n",
    "l3 = 164.75\n",
    "l4 = 175.5\n",
    "l5 = 142.82\n",
    "\n",
    "# Parámetros DH: (d, a, alpha)\n",
    "param_dh = [\n",
    "    (l2, 0, -90),     # Joint 1\n",
    "    (0, l3, 0),     # Joint 2\n",
    "    (-l1, l4, 90),      # Joint 3\n",
    "    (0, l5, 0)     # Joint 4\n",
    "]\n",
    "\n",
    "#ANGULOS\n",
    "q1 = 0\n",
    "q2 = 0\n",
    "q3 = 0\n",
    "q4 = 0\n",
    "\n",
    "# Ángulos de las juntas (grados)\n",
    "thetas = [q1 -90, q2 -90, q3, q4]"
   ]
  },
  {
   "cell_type": "code",
   "execution_count": 10,
   "id": "a428ceec-b665-4fc3-b6fc-4211f26f3181",
   "metadata": {},
   "outputs": [
    {
     "name": "stdout",
     "output_type": "stream",
     "text": [
      "Matriz homogénea final:\n",
      " [[ -0.     1.     0.   -70.75]\n",
      " [ -0.     0.     1.    -0.  ]\n",
      " [  1.     0.     0.   543.07]\n",
      " [  0.     0.     0.     1.  ]]\n",
      "Posición del efector final (x, y, z): [-70.75  -0.   543.07]\n"
     ]
    }
   ],
   "source": [
    "T_final = cinemática_directa(param_dh, thetas)\n",
    "pos_final = T_final[:3, 3]\n",
    "\n",
    "print(\"Matriz homogénea final:\\n\", T_final)\n",
    "print(\"Posición del efector final (x, y, z):\", pos_final)"
   ]
  },
  {
   "cell_type": "code",
   "execution_count": null,
   "id": "43b374a1-9429-4443-8445-c5a9faee4cfa",
   "metadata": {},
   "outputs": [],
   "source": []
  },
  {
   "cell_type": "code",
   "execution_count": 11,
   "id": "b2a9dc4e-04d3-498f-83b2-145c22946298",
   "metadata": {},
   "outputs": [
    {
     "data": {
      "text/plain": [
       "543.0699999999999"
      ]
     },
     "execution_count": 11,
     "metadata": {},
     "output_type": "execute_result"
    }
   ],
   "source": [
    "l2 + l3 + l4 + l5"
   ]
  }
 ],
 "metadata": {
  "kernelspec": {
   "display_name": "Python [conda env:base] *",
   "language": "python",
   "name": "conda-base-py"
  },
  "language_info": {
   "codemirror_mode": {
    "name": "ipython",
    "version": 3
   },
   "file_extension": ".py",
   "mimetype": "text/x-python",
   "name": "python",
   "nbconvert_exporter": "python",
   "pygments_lexer": "ipython3",
   "version": "3.12.7"
  }
 },
 "nbformat": 4,
 "nbformat_minor": 5
}
