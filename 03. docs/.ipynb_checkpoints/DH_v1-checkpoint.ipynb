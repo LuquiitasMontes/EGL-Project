{
 "cells": [
  {
   "cell_type": "code",
   "execution_count": 1,
   "id": "d3c7716a-5b6f-4608-b66a-9c436897f5d3",
   "metadata": {},
   "outputs": [],
   "source": [
    "import numpy as np\n",
    "np.set_printoptions(precision=4, suppress=True)"
   ]
  },
  {
   "cell_type": "markdown",
   "id": "0e40a9e5-0d5e-4e96-b1ab-6c701c37c0fa",
   "metadata": {},
   "source": [
    "## POR METODO DH"
   ]
  },
  {
   "cell_type": "code",
   "execution_count": 2,
   "id": "dc930998-2588-4c4d-9d33-4eb6e98d1e5b",
   "metadata": {},
   "outputs": [],
   "source": [
    "def matriz_DH(theta, d, a, alpha):\n",
    "    \"\"\"Devuelve la matriz de transformación homogénea individual usando los parámetros DH.\"\"\"\n",
    "    theta = np.deg2rad(theta)\n",
    "    alpha = np.deg2rad(alpha)\n",
    "    \n",
    "    return np.array([\n",
    "        [np.cos(theta), -np.sin(theta)*np.cos(alpha),  np.sin(theta)*np.sin(alpha), a*np.cos(theta)],\n",
    "        [np.sin(theta),  np.cos(theta)*np.cos(alpha), -np.cos(theta)*np.sin(alpha), a*np.sin(theta)],\n",
    "        [0,              np.sin(alpha),                np.cos(alpha),               d],\n",
    "        [0,              0,                            0,                           1]\n",
    "    ])\n",
    "\n",
    "def cinemática_directa(param_dh, thetas):\n",
    "    \"\"\"Calcula la posición del efector final a partir de los ángulos de las articulaciones.\"\"\"\n",
    "    T = np.identity(4)\n",
    "    for i, (d, a, alpha) in enumerate(param_dh):\n",
    "        theta = thetas[i]\n",
    "        T_i = matriz_DH(theta, d, a, alpha)\n",
    "        T = np.dot(T, T_i)\n",
    "    return T"
   ]
  },
  {
   "cell_type": "code",
   "execution_count": 3,
   "id": "6963b5f3-ecbb-4bac-b27b-e1195b303ca3",
   "metadata": {},
   "outputs": [],
   "source": [
    "#DATOS\n",
    "l1= 70\n",
    "l2 = 70\n",
    "l3 = 157\n",
    "l4 = 180\n",
    "l5 = 180\n",
    "\n",
    "# Parámetros DH: (d, a, alpha)\n",
    "param_dh = [\n",
    "    (l2, 0, -90),     # Joint 1\n",
    "    (0, l3, 0),     # Joint 2\n",
    "    (-l1, l4, 90),      # Joint 3\n",
    "    (0, l5, 0)     # Joint 4\n",
    "]\n",
    "\n",
    "#ANGULOS\n",
    "q1 = 0\n",
    "q2 = 90\n",
    "q3 = -90\n",
    "q4 = 270\n",
    "\n",
    "# Ángulos de las juntas (grados)\n",
    "thetas = [q1 -90, q2 -90, q3, q4]"
   ]
  },
  {
   "cell_type": "code",
   "execution_count": 4,
   "id": "a428ceec-b665-4fc3-b6fc-4211f26f3181",
   "metadata": {},
   "outputs": [
    {
     "name": "stdout",
     "output_type": "stream",
     "text": [
      "Matriz homogénea final:\n",
      " [[  -1.   -0.    0. -250.]\n",
      " [   0.   -0.    1. -157.]\n",
      " [  -0.    1.    0.  250.]\n",
      " [   0.    0.    0.    1.]]\n",
      "Posición del efector final (x, y, z): [-250. -157.  250.]\n"
     ]
    }
   ],
   "source": [
    "T_final = cinemática_directa(param_dh, thetas)\n",
    "pos_final = T_final[:3, 3]\n",
    "\n",
    "print(\"Matriz homogénea final:\\n\", T_final)\n",
    "print(\"Posición del efector final (x, y, z):\", pos_final)"
   ]
  },
  {
   "cell_type": "markdown",
   "id": "9d2dcb66-358d-4a8d-97f2-2ea1a801a14f",
   "metadata": {},
   "source": [
    "## POR METODO GEOMETRICO"
   ]
  },
  {
   "cell_type": "code",
   "execution_count": 5,
   "id": "b2a9dc4e-04d3-498f-83b2-145c22946298",
   "metadata": {},
   "outputs": [],
   "source": [
    "def posicion_tcp_geometrica(t1, t2, t3, t4):\n",
    "    \"\"\"Calcula la posición del TCP usando método geométrico (en mm).\"\"\"\n",
    "    # Pasar a radianes\n",
    "    t1 = np.deg2rad(t1)\n",
    "    t2 = np.deg2rad(t2)\n",
    "    t3 = np.deg2rad(t3)\n",
    "    t4 = np.deg2rad(t4)\n",
    "\n",
    "    # Ecuaciones que planteaste\n",
    "    x = l1 * np.cos(t1 + np.pi) + l5 * np.sin(t4)\n",
    "    y = l1 * np.sin(t1 + np.pi) + l3 * np.sin(t2 + np.pi) + l4 * np.sin(t2 + t3)\n",
    "    z = l2 + l3 * np.cos(t2 + np.pi) + l4 * np.cos(t2 + t3) + l5 * np.cos(t4)\n",
    "\n",
    "    return x, y, z"
   ]
  },
  {
   "cell_type": "code",
   "execution_count": 6,
   "id": "f962a3b0-ccff-48c0-be2b-e2dc0a8b500b",
   "metadata": {},
   "outputs": [
    {
     "name": "stdout",
     "output_type": "stream",
     "text": [
      "Posición del TCP: x=-250.00, y=-157.00, z=250.00\n"
     ]
    }
   ],
   "source": [
    "x, y, z = posicion_tcp_geometrica(q1, q2, q3, q4)\n",
    "print(f\"Posición del TCP: x={x:.2f}, y={y:.2f}, z={z:.2f}\")"
   ]
  },
  {
   "cell_type": "markdown",
   "id": "13d25296-03e0-4621-bdaf-f1cdc890c6bb",
   "metadata": {},
   "source": [
    "### AUXILIAR"
   ]
  },
  {
   "cell_type": "code",
   "execution_count": 7,
   "id": "397ae6cc-d115-447c-957b-33f2a9347f46",
   "metadata": {},
   "outputs": [],
   "source": [
    "t1 = np.deg2rad(q1)\n",
    "t2 = np.deg2rad(q2)\n",
    "t3 = np.deg2rad(q3)\n",
    "t4 = np.deg2rad(q4)"
   ]
  },
  {
   "cell_type": "markdown",
   "id": "0a58b21c-a5d1-4932-88b9-9b43bbd2a810",
   "metadata": {},
   "source": [
    "### LIMITACIONES"
   ]
  },
  {
   "cell_type": "markdown",
   "id": "b391d63f-e375-4a42-bea1-db45a27f16d1",
   "metadata": {},
   "source": [
    "- ARTICULACION 1: 90 A 200º\n",
    "- ARTICULACION 2: 130º A 310º\n",
    "- ARTICULACION 3: 70º A 270º\n",
    "- ARTICULACION 4: 0 A 90º Y 270 A 360º"
   ]
  },
  {
   "cell_type": "markdown",
   "id": "bc4668a5-3e44-448d-9f60-dfa8b3ee7acc",
   "metadata": {},
   "source": [
    "## CINEMATICA INVERSA"
   ]
  },
  {
   "cell_type": "code",
   "execution_count": 99,
   "id": "cae61e61-d335-41c9-beb7-22ede481a4db",
   "metadata": {},
   "outputs": [],
   "source": [
    "x = -70\n",
    "y = 0\n",
    "z = 250"
   ]
  },
  {
   "cell_type": "markdown",
   "id": "068b1844-51c2-4620-b5a0-608f92a4398f",
   "metadata": {},
   "source": [
    "### Calculo de tita1"
   ]
  },
  {
   "cell_type": "code",
   "execution_count": 100,
   "id": "22420d53-e177-41b7-b49b-a7743e0e7905",
   "metadata": {},
   "outputs": [
    {
     "data": {
      "text/plain": [
       "90.0"
      ]
     },
     "execution_count": 100,
     "metadata": {},
     "output_type": "execute_result"
    }
   ],
   "source": [
    "tita1 = np.arccos(x/l1) - np.pi/2\n",
    "tita1g = np.round(np.degrees(tita1),3)\n",
    "tita1g"
   ]
  },
  {
   "cell_type": "code",
   "execution_count": 101,
   "id": "957b3a7e-ebd4-4c73-8f15-c1c45fd0ad0a",
   "metadata": {},
   "outputs": [
    {
     "data": {
      "text/plain": [
       "0.0"
      ]
     },
     "execution_count": 101,
     "metadata": {},
     "output_type": "execute_result"
    }
   ],
   "source": [
    "#Contribucion de tita1 al eje y\n",
    "py1 = np.sqrt(l1**2 - x**2)\n",
    "py1"
   ]
  },
  {
   "cell_type": "markdown",
   "id": "5f98c5a8-7d3d-49a7-8de0-5d5e7fec329e",
   "metadata": {},
   "source": [
    "### Calculo de tita3"
   ]
  },
  {
   "cell_type": "code",
   "execution_count": 102,
   "id": "697a31d2-b00d-42c4-ae48-d40e5e7e5869",
   "metadata": {},
   "outputs": [
    {
     "data": {
      "text/plain": [
       "115.856"
      ]
     },
     "execution_count": 102,
     "metadata": {},
     "output_type": "execute_result"
    }
   ],
   "source": [
    "## DISTANCIA ENTRE TITA2 Y TITA4\n",
    "auxz = z - l2\n",
    "auxy = y - py1\n",
    "d = np.sqrt(auxz**2 + auxy**2)\n",
    "\n",
    "## Teorema del Coceno para TITA3\n",
    "auxtita3 = (l3**2 + l4**2 - d**2) / (2*l3*l4)\n",
    "tita3 = np.arccos(auxtita3)\n",
    "tita3g = 180 - np.round(np.degrees(tita3),3)\n",
    "tita3g"
   ]
  },
  {
   "cell_type": "markdown",
   "id": "f204a925-3f46-4ff8-9ba9-d6de79175495",
   "metadata": {},
   "source": [
    "### Calculo de tita2"
   ]
  },
  {
   "cell_type": "code",
   "execution_count": 110,
   "id": "26f5233d-ae76-4d91-afee-29b167347a54",
   "metadata": {},
   "outputs": [
    {
     "ename": "ZeroDivisionError",
     "evalue": "division by zero",
     "output_type": "error",
     "traceback": [
      "\u001b[1;31m---------------------------------------------------------------------------\u001b[0m",
      "\u001b[1;31mZeroDivisionError\u001b[0m                         Traceback (most recent call last)",
      "Cell \u001b[1;32mIn[110], line 2\u001b[0m\n\u001b[0;32m      1\u001b[0m \u001b[38;5;66;03m## Teorema del Coceno para TITA2\u001b[39;00m\n\u001b[1;32m----> 2\u001b[0m auxtita2 \u001b[38;5;241m=\u001b[39m (l3\u001b[38;5;241m*\u001b[39m\u001b[38;5;241m*\u001b[39m\u001b[38;5;241m2\u001b[39m \u001b[38;5;241m+\u001b[39m d\u001b[38;5;241m*\u001b[39m\u001b[38;5;241m*\u001b[39m\u001b[38;5;241m2\u001b[39m \u001b[38;5;241m-\u001b[39m l4\u001b[38;5;241m*\u001b[39m\u001b[38;5;241m*\u001b[39m\u001b[38;5;241m2\u001b[39m) \u001b[38;5;241m/\u001b[39m (\u001b[38;5;241m2\u001b[39m\u001b[38;5;241m*\u001b[39ml3\u001b[38;5;241m*\u001b[39md)\n\u001b[0;32m      3\u001b[0m tita2 \u001b[38;5;241m=\u001b[39m np\u001b[38;5;241m.\u001b[39marccos(auxtita2)\n\u001b[0;32m      4\u001b[0m \u001b[38;5;66;03m## Angulo entre la horizontal y el punto\u001b[39;00m\n",
      "\u001b[1;31mZeroDivisionError\u001b[0m: division by zero"
     ]
    }
   ],
   "source": [
    "## Teorema del Coceno para TITA2\n",
    "auxtita2 = (l3**2 + d**2 - l4**2) / (2*l3*d)\n",
    "tita2 = np.arccos(auxtita2)\n",
    "## Angulo entre la horizontal y el punto\n",
    "aux = np.arctan2(auxy,auxz)\n",
    "aux2 = np.degrees(aux)\n",
    "\n",
    "tita2g = np.round(np.degrees(tita2) - aux2 + 48,3)\n",
    "tita2g"
   ]
  },
  {
   "cell_type": "code",
   "execution_count": null,
   "id": "8848d732-c23b-4b21-b3eb-a13f5df7ee28",
   "metadata": {},
   "outputs": [],
   "source": []
  }
 ],
 "metadata": {
  "kernelspec": {
   "display_name": "Python [conda env:base] *",
   "language": "python",
   "name": "conda-base-py"
  },
  "language_info": {
   "codemirror_mode": {
    "name": "ipython",
    "version": 3
   },
   "file_extension": ".py",
   "mimetype": "text/x-python",
   "name": "python",
   "nbconvert_exporter": "python",
   "pygments_lexer": "ipython3",
   "version": "3.12.7"
  }
 },
 "nbformat": 4,
 "nbformat_minor": 5
}
